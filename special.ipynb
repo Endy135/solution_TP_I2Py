{
 "cells": [
  {
   "cell_type": "code",
   "execution_count": 1,
   "metadata": {},
   "outputs": [
    {
     "name": "stdout",
     "output_type": "stream",
     "text": [
      "Entrez un entier positif :-4.3\n"
     ]
    },
    {
     "ename": "ValueError",
     "evalue": "invalid literal for int() with base 10: '-4.3'",
     "output_type": "error",
     "traceback": [
      "\u001b[0;31m---------------------------------------------------------------------------\u001b[0m",
      "\u001b[0;31mValueError\u001b[0m                                Traceback (most recent call last)",
      "\u001b[0;32m<ipython-input-1-1503dcac9f34>\u001b[0m in \u001b[0;36m<module>\u001b[0;34m\u001b[0m\n\u001b[1;32m      1\u001b[0m \u001b[0;31m#1\u001b[0m\u001b[0;34m\u001b[0m\u001b[0;34m\u001b[0m\u001b[0;34m\u001b[0m\u001b[0m\n\u001b[0;32m----> 2\u001b[0;31m \u001b[0mn\u001b[0m \u001b[0;34m=\u001b[0m\u001b[0mint\u001b[0m\u001b[0;34m(\u001b[0m\u001b[0minput\u001b[0m\u001b[0;34m(\u001b[0m\u001b[0;34m'Entrez un entier positif :'\u001b[0m\u001b[0;34m)\u001b[0m\u001b[0;34m)\u001b[0m\u001b[0;34m\u001b[0m\u001b[0;34m\u001b[0m\u001b[0m\n\u001b[0m\u001b[1;32m      3\u001b[0m \u001b[0msom\u001b[0m \u001b[0;34m=\u001b[0m \u001b[0;36m0\u001b[0m\u001b[0;34m\u001b[0m\u001b[0;34m\u001b[0m\u001b[0m\n\u001b[1;32m      4\u001b[0m \u001b[0mprog\u001b[0m  \u001b[0;34m=\u001b[0m \u001b[0;36m1\u001b[0m\u001b[0;34m\u001b[0m\u001b[0;34m\u001b[0m\u001b[0m\n\u001b[1;32m      5\u001b[0m \u001b[0;32mwhile\u001b[0m \u001b[0mn\u001b[0m\u001b[0;34m<\u001b[0m\u001b[0;36m1\u001b[0m\u001b[0;34m:\u001b[0m\u001b[0;34m\u001b[0m\u001b[0;34m\u001b[0m\u001b[0m\n",
      "\u001b[0;31mValueError\u001b[0m: invalid literal for int() with base 10: '-4.3'"
     ]
    }
   ],
   "source": [
    "#1\n",
    "n =int(input('Entrez un entier positif :'))\n",
    "som = 0\n",
    "prog  = 1\n",
    "while n<1:\n",
    "    n =int(input('Entrez un entier positif :'))\n",
    "for i in range(0,n):\n",
    "    if(i%2==0):\n",
    "        som = som +3+i\n",
    "print('somme= ',som)\n",
    "\n",
    "\n",
    "for i in range(0,n):\n",
    "    if(i%2):\n",
    "        prog = prog*(i+3)\n",
    "print('produit= ',prog)\n",
    "\n",
    "        \n",
    "    "
   ]
  },
  {
   "cell_type": "code",
   "execution_count": 27,
   "metadata": {},
   "outputs": [
    {
     "name": "stdout",
     "output_type": "stream",
     "text": [
      "Entrez un entier positif entre[0,...,6] :6\n",
      "weekend\n"
     ]
    }
   ],
   "source": [
    "#2\n",
    "n =int(input('Entrez un entier positif entre[0,...,6] :'))\n",
    "day = ['lundi','mardi','mercredi','jeudi','vendredi']\n",
    "while n<0 or n>6:\n",
    "    n =int(input('Entrez un entier positif entre[0,...,6] :'))\n",
    "if (n>=0 and n<=4):\n",
    "    print(day[n])\n",
    "elif n==5 or n==6:\n",
    "    print('weekend')\n",
    "        "
   ]
  },
  {
   "cell_type": "code",
   "execution_count": 34,
   "metadata": {},
   "outputs": [
    {
     "name": "stdout",
     "output_type": "stream",
     "text": [
      "Entrez un entier positif entre[0,...,11] :3\n",
      "30 jours\n"
     ]
    }
   ],
   "source": [
    "#3\n",
    "n =int(input('Entrez un entier positif entre[0,...,11] :'))\n",
    "while n<0 or n>11:\n",
    "    n =int(input('Entrez un entier positif entre[0,...,11] :'))\n",
    "if n==0:\n",
    "    print('31 jours')\n",
    "elif n==1:\n",
    "    print('28 jours')\n",
    "elif n>=2 and n<=6:\n",
    "    if n%2==0:\n",
    "        print('31 jours')\n",
    "    else:\n",
    "        print(\"30 jours\")\n",
    "elif n>=7:\n",
    "    if n%20:\n",
    "        print('31 jours')\n",
    "    else:\n",
    "        print(\"30 jours\")\n"
   ]
  },
  {
   "cell_type": "code",
   "execution_count": 41,
   "metadata": {},
   "outputs": [
    {
     "name": "stdout",
     "output_type": "stream",
     "text": [
      "DIANE NOUNGANG\n",
      "DIANE NOUNGANG\n",
      "DIANE NOUNGANG\n",
      "-------------------\n",
      "DIANE NOUNGANG\n",
      "DIANE NOUNGANG\n",
      "DIANE NOUNGANG\n"
     ]
    }
   ],
   "source": [
    "#4\n",
    "nom_prenom ='DIANE NOUNGANG'\n",
    "for i in range (1,4):\n",
    "    print(nom_prenom)\n",
    "print(\"-------------------\")\n",
    "j = 1\n",
    "while j<4:\n",
    "    print(nom_prenom)\n",
    "    j = j+1\n"
   ]
  },
  {
   "cell_type": "code",
   "execution_count": 45,
   "metadata": {},
   "outputs": [
    {
     "name": "stdout",
     "output_type": "stream",
     "text": [
      "Entrez le premier terme:0\n",
      "Entrez le deuxieme terme:1\n",
      "Suite de Fibonacci en utilisant la recursion :\n",
      "0\n",
      "1\n"
     ]
    }
   ],
   "source": [
    "#5\n",
    "def fibonacci(n):\n",
    "    if(n ==0):\n",
    "        return a0\n",
    "    elif(n==1):\n",
    "        return a1\n",
    "    else:\n",
    "        return (fibonacci(n-1) + fibonacci(n-2))\n",
    "a0 = int(input(\"Entrez le premier terme:\"))\n",
    "a1 = int(input(\"Entrez le deuxieme terme:\"))\n",
    "n = 15\n",
    "print(\"Suite de Fibonacci en utilisant la recursion :\")\n",
    "for i in range(n):\n",
    "    print(fibonacci(i))"
   ]
  },
  {
   "cell_type": "code",
   "execution_count": 51,
   "metadata": {},
   "outputs": [
    {
     "name": "stdout",
     "output_type": "stream",
     "text": [
      "Entrez le premier terme:1\n",
      "Entrez le deuxieme terme:2\n",
      "1\n",
      "2\n"
     ]
    }
   ],
   "source": [
    "#6\n",
    "def suite(n):\n",
    "    if(n==0):\n",
    "        return x0\n",
    "    elif(n==1):\n",
    "        return x1\n",
    "    else:\n",
    "        return ((suite(n-1)+6*suite(n-2)//2))\n",
    "x0 = int(input(\"Entrez le premier terme:\"))\n",
    "x1 = int(input(\"Entrez le deuxieme terme:\"))\n",
    "n = 2\n",
    "for i in range(n):\n",
    "    print(suite(i))"
   ]
  },
  {
   "cell_type": "code",
   "execution_count": 7,
   "metadata": {},
   "outputs": [
    {
     "name": "stdout",
     "output_type": "stream",
     "text": [
      "entrez une année2000\n",
      "it is a leap year\n",
      "without conditionnal branching\n"
     ]
    }
   ],
   "source": [
    "#7\n",
    "year =int(input('entrez une année'))\n",
    "while year<0:\n",
    "    year =int(input('entrez une année'))\n",
    "if (year%4==0 and year%100) or (year%400==0):\n",
    "    print('it is a leap year')\n",
    "else:\n",
    "    print('it is not a leap year')\n",
    "print('without conditionnal branching')\n",
    "\n",
    "    "
   ]
  },
  {
   "cell_type": "code",
   "execution_count": 39,
   "metadata": {},
   "outputs": [
    {
     "name": "stdout",
     "output_type": "stream",
     "text": [
      "Entrez un entier positif :3\n",
      "14\n",
      "la version aver la boucle while\n",
      "14\n",
      "plus petit entier \n",
      "Entrez un entier positif :14\n",
      "le plus petit entier est  3\n"
     ]
    }
   ],
   "source": [
    "#8\n",
    "som = 0\n",
    "n = int(input('Entrez un entier positif :'))\n",
    "while n<0:\n",
    "    int(input('Entrez un entier positif :'))\n",
    "for i in range(0,n+1):\n",
    "    som = som +i**2\n",
    "print(som)\n",
    "j = 0\n",
    "som1 = 0\n",
    "print(\"la version aver la boucle while\")\n",
    "while j<n+1:\n",
    "    som1 = som1+j**2\n",
    "    j = j + 1\n",
    "print(som1)\n",
    "\n",
    "print(\"plus petit entier \")\n",
    "k=0\n",
    "M = int(input('Entrez un entier positif :'))\n",
    "while M>0:\n",
    "    M = M-k**2\n",
    "    k = k+1\n",
    "print('le plus petit entier est ',k-1)\n",
    "\n",
    "#avec la boucle for\n",
    "for l in range(0,M):\n",
    "    while M>0:\n",
    "        M = M-l**2\n",
    "    print('le plus petit entier est donc',l-1)\n",
    "    \n",
    "    \n",
    "\n"
   ]
  },
  {
   "cell_type": "code",
   "execution_count": 29,
   "metadata": {},
   "outputs": [
    {
     "name": "stdout",
     "output_type": "stream",
     "text": [
      "Entrez un entier positif :64\n",
      "1\n",
      "2\n",
      "4\n",
      "8\n",
      "16\n",
      "32\n",
      "64\n"
     ]
    }
   ],
   "source": [
    "#9a\n",
    "n = int(input('Entrez un entier positif :'))\n",
    "for i in range(1,n+1):\n",
    "    if (n%i==0):\n",
    "        print(i)\n",
    "\n"
   ]
  },
  {
   "cell_type": "code",
   "execution_count": 37,
   "metadata": {},
   "outputs": [
    {
     "name": "stdout",
     "output_type": "stream",
     "text": [
      "Entrez un entier positif :234\n",
      "[2, 3, 13]  :correspond a la liste des diviseurs premiers de  234\n"
     ]
    }
   ],
   "source": [
    "#9b\n",
    "a=list()\n",
    "b=list()\n",
    "l=2\n",
    "\n",
    "n = int(input('Entrez un entier positif :'))\n",
    "for i in range(2,n+1):\n",
    "    if (n%i==0):\n",
    "        a.append(i)\n",
    "for j in range(0,len(a)):\n",
    "    p=0\n",
    "    for l in range(2,a[j]+1):\n",
    "        if (a[j])%l==0:\n",
    "            p = p +1\n",
    "    if p==1:\n",
    "        b.append(a[j])\n",
    "print(b,' :correspond a la liste des diviseurs premiers de ',n)\n",
    "            \n",
    "            \n",
    "            \n",
    "            "
   ]
  },
  {
   "cell_type": "code",
   "execution_count": 42,
   "metadata": {},
   "outputs": [
    {
     "name": "stdout",
     "output_type": "stream",
     "text": [
      "Donnez un entier compris entre 0 et 9: 7\n",
      "Donnez un entier: 5\n",
      "7 * 1 = 7\n",
      "7 * 2 = 14\n",
      "7 * 3 = 21\n",
      "7 * 4 = 28\n",
      "7 * 5 = 35\n"
     ]
    }
   ],
   "source": [
    "#10\n",
    "n=int(input('Donnez un entier compris entre 0 et 9: '))\n",
    "while n<0 or n>9:\n",
    "    n=int(input('Donnez un entier compris entre 0 et 9: '))\n",
    "    \n",
    "N=int(input('Donnez un entier: '))\n",
    "for i in range(1,N+1):\n",
    "    print(n,'*',i,'=',n*i)"
   ]
  },
  {
   "cell_type": "code",
   "execution_count": 47,
   "metadata": {},
   "outputs": [
    {
     "name": "stdout",
     "output_type": "stream",
     "text": [
      "la liste des nombres multiple de 3,7 ou 11 dans [0,40] est:  [0, 3, 6, 7, 9, 11, 12, 14, 15, 18, 21, 22, 24, 27, 28, 30, 33, 35, 36, 39]\n"
     ]
    }
   ],
   "source": [
    "#10\n",
    "a=list()\n",
    "for i in range(0,41):\n",
    "    if i%3==0 or i%7==0 or i%11==0:\n",
    "        a.append(i)\n",
    "print('la liste des nombres multiple de 3,7 ou 11 dans [0,40] est: ',a)"
   ]
  },
  {
   "cell_type": "code",
   "execution_count": 3,
   "metadata": {},
   "outputs": [
    {
     "name": "stdout",
     "output_type": "stream",
     "text": [
      "donner un reel: -0.5\n",
      "le foor de  -0.5 cest  -1\n"
     ]
    }
   ],
   "source": [
    "#11\n",
    "x = float(input(\"donner un reel: \"))\n",
    "y=int(x)\n",
    "if (x==y):\n",
    "    print(\"le floor de \",x ,\"est \",y)\n",
    "else:\n",
    "    if x<0:\n",
    "        print('le foor de ',x,'cest ',y-1)\n",
    "    else:\n",
    "        print(\"Le floor de \",x,'cest ',y)"
   ]
  },
  {
   "cell_type": "code",
   "execution_count": 60,
   "metadata": {
    "scrolled": true
   },
   "outputs": [
    {
     "name": "stdout",
     "output_type": "stream",
     "text": [
      "Donner a valeur de votre abscisse: 0\n",
      "Donner a valeur de votre ordonnée: 0\n",
      "le couple  ( 0.0 , 0.0 ) est lorigine du repere\n"
     ]
    }
   ],
   "source": [
    "#13\n",
    "x = float(input('Donner a valeur de votre abscisse: '))\n",
    "y = float(input('Donner a valeur de votre ordonnée: '))\n",
    "if x==y==0:\n",
    "       print(\"le couple \",'(',x,',',y,')' ,'est lorigine du repere')\n",
    "elif (x>0 and y>0):\n",
    "    print(\"le couple \",'(',x,',',y,')' ,'est dans le 1st cadran')\n",
    "elif (x>0 and y<0) :\n",
    "    print(\"le couple \",'(',x,',',y,')' ,'est dans le 2nd cadran')\n",
    "elif (x<0 and y>0) :\n",
    "    print(\"le couple \",'(',x,',',y,')' ,'est dans le 4th cadran')\n",
    "elif (x<0 and y<0):\n",
    "    print(\"le couple \",'(',x,',',y,')' ,'est dans le 3rd cadran')\n",
    "elif x==0 and y:\n",
    "    print(\"le couple \",'(',x,',',y,')' ,'est sur laxe des ordonnées')\n",
    "elif x and y==0:\n",
    "    print(\"le couple \",'(',x,',',y,')' ,'est sur laxe des abscisses')\n",
    "    \n",
    "    \n",
    "    \n",
    "    \n"
   ]
  },
  {
   "cell_type": "code",
   "execution_count": 71,
   "metadata": {},
   "outputs": [
    {
     "name": "stdout",
     "output_type": "stream",
     "text": [
      "Donnez un entier compris entre 0 et 9: 23\n",
      "Un entier compris entre 0 et 9: 255\n",
      "Un entier compris entre 0 et 9: 4\n",
      "Donnez un entier compris entre 0 et 255: 234\n",
      "Voici les multiples de  4 compris entre 0 et:  234 [0, 4, 8, 12, 16, 20, 24, 28, 32, 36, 40, 44, 48, 52, 56, 60, 64, 68, 72, 76, 80, 84, 88, 92, 96, 100, 104, 108, 112, 116, 120, 124, 128, 132, 136, 140, 144, 148, 152, 156, 160, 164, 168, 172, 176, 180, 184, 188, 192, 196, 200, 204, 208, 212, 216, 220, 224, 228, 232]\n",
      "\n",
      "entrer une valeur non nul si vous souhaitez continuer: 1\n",
      "Donnez un entier compris entre 0 et 9: 7\n",
      "Donnez un entier compris entre 0 et 255: 211\n",
      "Voici les multiples de  7 compris entre 0 et:  211 [0, 7, 14, 21, 28, 35, 42, 49, 56, 63, 70, 77, 84, 91, 98, 105, 112, 119, 126, 133, 140, 147, 154, 161, 168, 175, 182, 189, 196, 203, 210]\n",
      "\n",
      "entrer une valeur non nul si vous souhaitez continuer: 0\n",
      "Merci d'avoir essayé!!!!\n"
     ]
    }
   ],
   "source": [
    "#14\n",
    "a=list()\n",
    "n=1\n",
    "while n:\n",
    "    x=int (input(\"Donnez un entier compris entre 0 et 9: \"))\n",
    "    while x<=0 or x>9:\n",
    "        x=int (input(\"Un entier compris entre 0 et 9: \"))\n",
    "    Max=int (input(\"Donnez un entier compris entre 0 et 255: \"))\n",
    "    while Max<0 or Max>255:\n",
    "        Max=int (input(\"Un entier compris entre 0 et 255: \"))\n",
    "    for i in range (0,Max+1):\n",
    "        if i%x==0:\n",
    "            a.append(i)\n",
    "    print('Voici les multiples de ',x,'compris entre','0 et: ',Max,a)\n",
    "    print()\n",
    "    n=int(input(\"entrer une valeur non nul si vous souhaitez continuer: \"))\n",
    "    a=list()\n",
    "print(\"Merci d'avoir essayé!!!!\")\n",
    "    \n",
    "\n",
    "    \n",
    "\n"
   ]
  },
  {
   "cell_type": "code",
   "execution_count": null,
   "metadata": {},
   "outputs": [],
   "source": []
  }
 ],
 "metadata": {
  "kernelspec": {
   "display_name": "Python 3",
   "language": "python",
   "name": "python3"
  },
  "language_info": {
   "codemirror_mode": {
    "name": "ipython",
    "version": 3
   },
   "file_extension": ".py",
   "mimetype": "text/x-python",
   "name": "python",
   "nbconvert_exporter": "python",
   "pygments_lexer": "ipython3",
   "version": "3.8.10"
  }
 },
 "nbformat": 4,
 "nbformat_minor": 4
}
