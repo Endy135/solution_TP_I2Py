{
 "cells": [
  {
   "cell_type": "code",
   "execution_count": 7,
   "metadata": {},
   "outputs": [
    {
     "name": "stdout",
     "output_type": "stream",
     "text": [
      "Entrez un entier positif :3\n",
      "somme=  8\n",
      "produit=  4\n"
     ]
    }
   ],
   "source": [
    "#1\n",
    "n =int(input('Entrez un entier positif :'))\n",
    "som = 0\n",
    "prog  = 1\n",
    "while n<1:\n",
    "    n =int(input('Entrez un entier positif :'))\n",
    "for i in range(0,n):\n",
    "    if(i%2==0):\n",
    "        som = som +3+i\n",
    "print('somme= ',som)\n",
    "\n",
    "\n",
    "for i in range(0,n):\n",
    "    if(i%2):\n",
    "        prog = prog*(i+3)\n",
    "print('produit= ',prog)\n",
    "\n",
    "        \n",
    "    "
   ]
  },
  {
   "cell_type": "code",
   "execution_count": 27,
   "metadata": {},
   "outputs": [
    {
     "name": "stdout",
     "output_type": "stream",
     "text": [
      "Entrez un entier positif entre[0,...,6] :6\n",
      "weekend\n"
     ]
    }
   ],
   "source": [
    "#2\n",
    "n =int(input('Entrez un entier positif entre[0,...,6] :'))\n",
    "day = ['lundi','mardi','mercredi','jeudi','vendredi']\n",
    "while n<0 or n>6:\n",
    "    n =int(input('Entrez un entier positif entre[0,...,6] :'))\n",
    "if (n>=0 and n<=4):\n",
    "    print(day[n])\n",
    "elif n==5 or n==6:\n",
    "    print('weekend')\n",
    "        "
   ]
  },
  {
   "cell_type": "code",
   "execution_count": 34,
   "metadata": {},
   "outputs": [
    {
     "name": "stdout",
     "output_type": "stream",
     "text": [
      "Entrez un entier positif entre[0,...,11] :3\n",
      "30 jours\n"
     ]
    }
   ],
   "source": [
    "#3\n",
    "n =int(input('Entrez un entier positif entre[0,...,11] :'))\n",
    "while n<0 or n>11:\n",
    "    n =int(input('Entrez un entier positif entre[0,...,11] :'))\n",
    "if n==0:\n",
    "    print('31 jours')\n",
    "elif n==1:\n",
    "    print('28 jours')\n",
    "elif n>=2 and n<=6:\n",
    "    if n%2==0:\n",
    "        print('31 jours')\n",
    "    else:\n",
    "        print(\"30 jours\")\n",
    "elif n>=7:\n",
    "    if n%20:\n",
    "        print('31 jours')\n",
    "    else:\n",
    "        print(\"30 jours\")\n"
   ]
  },
  {
   "cell_type": "code",
   "execution_count": 41,
   "metadata": {},
   "outputs": [
    {
     "name": "stdout",
     "output_type": "stream",
     "text": [
      "DIANE NOUNGANG\n",
      "DIANE NOUNGANG\n",
      "DIANE NOUNGANG\n",
      "-------------------\n",
      "DIANE NOUNGANG\n",
      "DIANE NOUNGANG\n",
      "DIANE NOUNGANG\n"
     ]
    }
   ],
   "source": [
    "#4\n",
    "nom_prenom ='DIANE NOUNGANG'\n",
    "for i in range (1,4):\n",
    "    print(nom_prenom)\n",
    "print(\"-------------------\")\n",
    "j = 1\n",
    "while j<4:\n",
    "    print(nom_prenom)\n",
    "    j = j+1\n"
   ]
  },
  {
   "cell_type": "code",
   "execution_count": 45,
   "metadata": {},
   "outputs": [
    {
     "name": "stdout",
     "output_type": "stream",
     "text": [
      "Entrez le premier terme:0\n",
      "Entrez le deuxieme terme:1\n",
      "Suite de Fibonacci en utilisant la recursion :\n",
      "0\n",
      "1\n"
     ]
    }
   ],
   "source": [
    "#5\n",
    "def fibonacci(n):\n",
    "    if(n ==0):\n",
    "        return a0\n",
    "    elif(n==1):\n",
    "        return a1\n",
    "    else:\n",
    "        return (fibonacci(n-1) + fibonacci(n-2))\n",
    "a0 = int(input(\"Entrez le premier terme:\"))\n",
    "a1 = int(input(\"Entrez le deuxieme terme:\"))\n",
    "n = 15\n",
    "print(\"Suite de Fibonacci en utilisant la recursion :\")\n",
    "for i in range(n):\n",
    "    print(fibonacci(i))"
   ]
  },
  {
   "cell_type": "code",
   "execution_count": 51,
   "metadata": {},
   "outputs": [
    {
     "name": "stdout",
     "output_type": "stream",
     "text": [
      "Entrez le premier terme:1\n",
      "Entrez le deuxieme terme:2\n",
      "1\n",
      "2\n"
     ]
    }
   ],
   "source": [
    "#6\n",
    "def suite(n):\n",
    "    if(n==0):\n",
    "        return x0\n",
    "    elif(n==1):\n",
    "        return x1\n",
    "    else:\n",
    "        return ((suite(n-1)+6*suite(n-2)//2))\n",
    "x0 = int(input(\"Entrez le premier terme:\"))\n",
    "x1 = int(input(\"Entrez le deuxieme terme:\"))\n",
    "n = 2\n",
    "for i in range(n):\n",
    "    print(suite(i))"
   ]
  },
  {
   "cell_type": "code",
   "execution_count": null,
   "metadata": {},
   "outputs": [],
   "source": []
  }
 ],
 "metadata": {
  "kernelspec": {
   "display_name": "Python 3",
   "language": "python",
   "name": "python3"
  },
  "language_info": {
   "codemirror_mode": {
    "name": "ipython",
    "version": 3
   },
   "file_extension": ".py",
   "mimetype": "text/x-python",
   "name": "python",
   "nbconvert_exporter": "python",
   "pygments_lexer": "ipython3",
   "version": "3.8.10"
  }
 },
 "nbformat": 4,
 "nbformat_minor": 4
}
