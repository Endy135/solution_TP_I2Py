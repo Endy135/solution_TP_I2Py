{
 "cells": [
  {
   "cell_type": "markdown",
   "metadata": {
    "id": "22f02e1a"
   },
   "source": [
    "\n",
    "### <center> <b> <span style=\"color:blue;\"> Travaux Pratiques: Variables, Types & Opérations </span> </b></center>"
   ]
  },
  {
   "cell_type": "markdown",
   "metadata": {
    "id": "ddc667e7"
   },
   "source": [
    "**Exercise 00:**  \n",
    ">\n",
    "\n",
    "  \n",
    "> 1. Déclarez une variable `prenom` et attribuez-lui une valeur.\n",
    "  > 2. Déclarez une variable `nom` et attribuez-lui une valeur.\n",
    "  > 3. Déclarez une variable `prenom_nom` et attribuez-lui une valeur.\n",
    "  > 4. Déclarez une variable `pays` et attribuez-lui une valeur.\n",
    "  > 5. Déclarez une variable `ville` et attribuez-lui une valeur.\n",
    "  > 6. Déclarez une variable `age` et attribuez-lui une valeur.\n",
    "  > 7. Déclarez une variable `annee` et attribuez-lui une valeur.\n",
    "  > 8. Déclarez une variable `est_marie` et attribuez-lui une valeur.\n",
    "  > 9. Déclarez une variable `est_vrai` et attribuez-lui une valeur.\n",
    "\n",
    "> Pour chacune des variables ci-dessus, affichez la valeur qu'elle contient à l'aide de la fonction `print()`.\n",
    "\n"
   ]
  },
  {
   "cell_type": "code",
   "execution_count": 9,
   "metadata": {
    "id": "ebd3951d"
   },
   "outputs": [
    {
     "name": "stdout",
     "output_type": "stream",
     "text": [
      "Diana\n",
      "NOUNGANG\n",
      "NKD\n",
      "Cameroun\n",
      "Bangangte\n",
      "37\n",
      "2021\n",
      "à Munsk\n",
      "pour de vrai\n"
     ]
    }
   ],
   "source": [
    "prenom = 'Diana'\n",
    "print(prenom)\n",
    "nom = 'NOUNGANG'\n",
    "print(nom)\n",
    "prenom_nom = 'NKD'\n",
    "print(prenom_nom)\n",
    "pays = 'Cameroun'\n",
    "print(pays)\n",
    "ville = 'Bangangte'\n",
    "print(ville)\n",
    "age = 37\n",
    "print(age)\n",
    "annee = 2021\n",
    "print(annee)\n",
    "est_marie = 'à Munsk'\n",
    "print(est_marie)\n",
    "est_vrai = 'pour de vrai'\n",
    "print(est_vrai)\n",
    "\n"
   ]
  },
  {
   "cell_type": "markdown",
   "metadata": {
    "id": "85eb4f96"
   },
   "source": [
    "**Exercise 01:** \n",
    "> Vérifiez le type de données de toutes vos variables à l'aide de la fonction intégrée `type()`.**\n"
   ]
  },
  {
   "cell_type": "code",
   "execution_count": 1,
   "metadata": {
    "id": "c5c47124"
   },
   "outputs": [
    {
     "ename": "NameError",
     "evalue": "name 'prenom' is not defined",
     "output_type": "error",
     "traceback": [
      "\u001b[0;31m---------------------------------------------------------------------------\u001b[0m",
      "\u001b[0;31mNameError\u001b[0m                                 Traceback (most recent call last)",
      "\u001b[0;32m<ipython-input-1-25ba4d5b9d96>\u001b[0m in \u001b[0;36m<module>\u001b[0;34m\u001b[0m\n\u001b[0;32m----> 1\u001b[0;31m \u001b[0mtype\u001b[0m\u001b[0;34m(\u001b[0m\u001b[0mprenom\u001b[0m\u001b[0;34m)\u001b[0m\u001b[0;34m\u001b[0m\u001b[0;34m\u001b[0m\u001b[0m\n\u001b[0m\u001b[1;32m      2\u001b[0m \u001b[0mtype\u001b[0m\u001b[0;34m(\u001b[0m\u001b[0mnom\u001b[0m\u001b[0;34m)\u001b[0m\u001b[0;34m\u001b[0m\u001b[0;34m\u001b[0m\u001b[0m\n\u001b[1;32m      3\u001b[0m \u001b[0mtype\u001b[0m\u001b[0;34m(\u001b[0m\u001b[0mnom_prenom\u001b[0m\u001b[0;34m)\u001b[0m\u001b[0;34m\u001b[0m\u001b[0;34m\u001b[0m\u001b[0m\n\u001b[1;32m      4\u001b[0m \u001b[0mtype\u001b[0m\u001b[0;34m(\u001b[0m\u001b[0mville\u001b[0m\u001b[0;34m)\u001b[0m\u001b[0;34m\u001b[0m\u001b[0;34m\u001b[0m\u001b[0m\n\u001b[1;32m      5\u001b[0m \u001b[0mtype\u001b[0m\u001b[0;34m(\u001b[0m\u001b[0mage\u001b[0m\u001b[0;34m)\u001b[0m\u001b[0;34m\u001b[0m\u001b[0;34m\u001b[0m\u001b[0m\n",
      "\u001b[0;31mNameError\u001b[0m: name 'prenom' is not defined"
     ]
    }
   ],
   "source": [
    "type(prenom)\n",
    "type(nom)\n",
    "type(nom_prenom)\n",
    "type(ville)\n",
    "type(age)\n",
    "type (annee)\n",
    "type(est_marrie)\n",
    "type(est_vrai)\n",
    "# Décommenter pour avoir le type "
   ]
  },
  {
   "cell_type": "markdown",
   "metadata": {
    "id": "76cdc19b"
   },
   "source": [
    "**Exercise 02:** \n",
    "> Calculez la valeur de $y$ ($y = x^2 + 6x + 9$). Essayez d'utiliser différentes valeurs de $x$ et déterminez à quelle valeur de $x$ $y$ sera égal à 0.**"
   ]
  },
  {
   "cell_type": "code",
   "execution_count": 12,
   "metadata": {
    "id": "fb4df11a"
   },
   "outputs": [
    {
     "name": "stdout",
     "output_type": "stream",
     "text": [
      "16\n",
      "--------\n",
      "100\n",
      "--------\n",
      "64\n",
      "--------\n",
      "y = 0\n"
     ]
    }
   ],
   "source": [
    "x = 1\n",
    "y = x*x + 6*x + 9\n",
    "print(y)\n",
    "print('--------')\n",
    "x = 7\n",
    "y = x*x + 6*x + 9\n",
    "print('y = '+str(y))\n",
    "print('--------')\n",
    "x = -11\n",
    "y = x*x + 6*x + 9\n",
    "print('y = '+str(y))\n",
    "print('--------')\n",
    "x = -3\n",
    "y = x*x + 6*x + 9\n",
    "print('y = '+str(y))\n",
    "\n"
   ]
  },
  {
   "cell_type": "markdown",
   "metadata": {
    "id": "8f40e3ab"
   },
   "source": [
    "**Exercise 03:** \n",
    ">    \n",
    "\n",
    "     1. Déclarez votre âge sous forme de variable entière\n",
    "     2. Déclarez votre taille en tant que variable flottante\n",
    "     3. Déclarez une variable qui stocke la base et la hauteur d'un triangle. Calculez l'aire de ce triangle (aire = 0,5 x b x h)."
   ]
  },
  {
   "cell_type": "code",
   "execution_count": 10,
   "metadata": {
    "id": "rpAlhgG_9A5z"
   },
   "outputs": [
    {
     "name": "stdout",
     "output_type": "stream",
     "text": [
      "57.5\n"
     ]
    }
   ],
   "source": [
    "age = 21\n",
    "taille = 160.\n",
    "b = 23\n",
    "h = 5\n",
    "e = 0.5*b*h\n",
    "print(e)"
   ]
  },
  {
   "cell_type": "markdown",
   "metadata": {
    "id": "9957391d"
   },
   "source": [
    "## *Astuce : recevoir les entrées de l'utilisateur *\n",
    "**Pour recevoir une entrée de l'utilisateur, nous utilisons `input()`.**.\n",
    "\n",
    "**Exemple**\n",
    "Recevez deux nombres en entrée de l'utilisateur et calculez leur puissance :\n",
    "```python\n",
    "base = input(\"Entrez une base : \")\n",
    "exposant = input(\"Entrez un exposant : \")\n",
    "resultat = float(base) ** float(exposant)\n",
    "print(f \"{base} à la puissance {exposant} = {résultat}\")\n",
    "```"
   ]
  },
  {
   "cell_type": "markdown",
   "metadata": {
    "id": "0fb34716"
   },
   "source": [
    "**Exercise 04:** \n",
    "> **Write a small code that asks the user to enter the side $a$, the side $b$ and the side $c$ of a triangle. Calculate the perimeter of the triangle (perimeter = a + b + c).**"
   ]
  },
  {
   "cell_type": "code",
   "execution_count": 13,
   "metadata": {
    "id": "6618f067"
   },
   "outputs": [
    {
     "name": "stdout",
     "output_type": "stream",
     "text": [
      "Entrez la longueur du cote a : 12\n",
      "Entrez la longueur du cote b : 32\n",
      "Entrez la longueur du cote c : 6\n",
      "50.0\n"
     ]
    }
   ],
   "source": [
    "a = float(input(\"Entrez la longueur du cote a : \"))\n",
    "b = float(input(\"Entrez la longueur du cote b : \"))\n",
    "c = float(input(\"Entrez la longueur du cote c : \"))\n",
    "perimeter = a + b + c\n",
    "print(perimeter)"
   ]
  },
  {
   "cell_type": "markdown",
   "metadata": {
    "id": "e482c15c"
   },
   "source": [
    "**Exercise 05:** \n",
    "> **Obtenez la longueur et la largeur d'un rectangle à l'aide de l'invite. Calculer sa `superficie` et son `perimetre`.**"
   ]
  },
  {
   "cell_type": "code",
   "execution_count": 17,
   "metadata": {
    "id": "286cec4c"
   },
   "outputs": [
    {
     "name": "stdout",
     "output_type": "stream",
     "text": [
      "Entrez la longueur de votre rectangle : 2\n",
      "Entrez la longueur de votre rectangle : 3\n",
      "superficie =6.0 //perimetre = 10.0\n"
     ]
    }
   ],
   "source": [
    "longueur = float(input(\"Entrez la longueur de votre rectangle : \"))\n",
    "largeur = float(input(\"Entrez la longueur de votre rectangle : \"))\n",
    "superficie = longueur*largeur\n",
    "perimeter = (longueur + largeur)*2\n",
    "print('superficie ='+str(superficie) +' //perimetre = '+str(perimeter))"
   ]
  },
  {
   "cell_type": "markdown",
   "metadata": {
    "id": "cf15844c"
   },
   "source": [
    "**Exercice 06:** \n",
    "> **Obtenez le rayon d'un cercle en utilisant l'invite. Calculez l'aire (aire = pi x r x r) et la circonférence (c = 2 x pi x r) où pi = 3,14.**"
   ]
  },
  {
   "cell_type": "code",
   "execution_count": 18,
   "metadata": {
    "id": "ee0ee85e"
   },
   "outputs": [
    {
     "name": "stdout",
     "output_type": "stream",
     "text": [
      "Entrez le rayon de votre cercle : 3\n",
      "aire = 28.259999999999998\n",
      "la circonference est 18.84\n"
     ]
    }
   ],
   "source": [
    "r = float(input(\"Entrez le rayon de votre cercle : \"))\n",
    "pi = 3.14\n",
    "aire = pi*r*r\n",
    "print('aire = '+str(aire))\n",
    "circonference = 2*pi*r\n",
    "print('la circonference est '+str(circonference))"
   ]
  },
  {
   "cell_type": "markdown",
   "metadata": {
    "id": "d9dec37a"
   },
   "source": [
    "**Exercice 07:**\n",
    "> **Calculez la pente, l'ordonnée à l'origine en x et l'ordonnée à l'origine en $y$ de $y = 2x -2$.**"
   ]
  },
  {
   "cell_type": "code",
   "execution_count": 19,
   "metadata": {
    "id": "203e449c"
   },
   "outputs": [
    {
     "name": "stdout",
     "output_type": "stream",
     "text": [
      "pente =2.0\n",
      "y = -2\n",
      "x= 1.0\n"
     ]
    }
   ],
   "source": [
    "x1 = 1\n",
    "y1 = 0\n",
    "x2 = 0\n",
    "y2 = -2\n",
    "pente = (y2-y1)/(x2-x1)\n",
    "print('pente ='+str(pente))\n",
    "x = 0\n",
    "y = 2*x - 2\n",
    "print('y = '+str(y))\n",
    "y = 0\n",
    "x = (y+2)/2\n",
    "print('x= '+str(x))\n",
    "\n",
    "\n"
   ]
  },
  {
   "cell_type": "markdown",
   "metadata": {
    "id": "2f74d685"
   },
   "source": [
    "**Exercice 08:** \n",
    "> **Rédigez un script qui demande à l'utilisateur d'entrer les heures et le taux horaire. Calculez la rémunération de la personne ?**"
   ]
  },
  {
   "cell_type": "code",
   "execution_count": null,
   "metadata": {
    "id": "7cff5a0a"
   },
   "outputs": [],
   "source": [
    "h = float(input(\"Entrez le nombre dheure de travail : \"))\n",
    "T = float(input(\"Entrez le taux horaire : \"))\n",
    "salaire = h*T\n",
    "print(salaire)"
   ]
  },
  {
   "cell_type": "markdown",
   "metadata": {
    "id": "6ddd662c"
   },
   "source": [
    "**Exercice 09:** \n",
    "> **Écrivez un script qui demande à l'utilisateur d'entrer le nombre d'années. Calculez le nombre de secondes qu'une personne peut vivre. Supposons qu'une personne puisse vivre cent ans.**"
   ]
  },
  {
   "cell_type": "code",
   "execution_count": 38,
   "metadata": {
    "id": "44c2a63c"
   },
   "outputs": [
    {
     "name": "stdout",
     "output_type": "stream",
     "text": [
      "Entrez un nombre dannees de vie inferieur a cent ans : 101\n",
      "Pas aussi longtemps quen meme\n"
     ]
    }
   ],
   "source": [
    "a = int(input(\"Entrez un nombre dannees de vie inferieur a cent ans : \"))\n",
    "seconde = a*365*24*3600\n",
    "if a<100 or a<0:\n",
    "    print('nombre de secondes '+str(seconde))\n",
    "else:\n",
    "    print('Pas aussi longtemps quen meme')"
   ]
  },
  {
   "cell_type": "markdown",
   "metadata": {
    "id": "9b253387"
   },
   "source": [
    "**Exercice 10:** \n",
    "> **Écrivez un script Python qui affiche le tableau suivant**\n",
    "\n",
    "    1 1 1 1 1\n",
    "    \n",
    "    2 1 2 4 8\n",
    "    \n",
    "    3 1 3 9 27\n",
    "    \n",
    "    4 1 4 16 64\n",
    "    \n",
    "    5 1 5 25 125"
   ]
  },
  {
   "cell_type": "code",
   "execution_count": 47,
   "metadata": {
    "id": "aa2dae84"
   },
   "outputs": [
    {
     "name": "stdout",
     "output_type": "stream",
     "text": [
      "1 1 1 1 1\n",
      "\n",
      "2 1 2 4 8\n",
      "\n",
      "3 1 3 9 27\n",
      "\n",
      "4 1 4 16 64\n",
      "\n",
      "5 1 5 25 125\n"
     ]
    }
   ],
   "source": [
    "print('1 1 1 1 1')\n",
    "print()\n",
    "print('2 1 2 4 8')\n",
    "print()\n",
    "print('3 1 3 9 27')\n",
    "print()\n",
    "print('4 1 4 16 64')\n",
    "print()\n",
    "print('5 1 5 25 125')\n",
    "\n",
    "        \n",
    "        \n",
    "\n"
   ]
  },
  {
   "cell_type": "markdown",
   "metadata": {
    "id": "953e7d8c"
   },
   "source": [
    "**Exercise 11:** \n",
    ">**Attribuez aux variables `temps` et `distance` les valeurs $6.892$ et $19.7$. Calculer et afficher la valeur de la vitesse. Améliorer l'affichage en imposant un chiffre après la virgule.**"
   ]
  },
  {
   "cell_type": "code",
   "execution_count": 43,
   "metadata": {
    "id": "6d787289"
   },
   "outputs": [
    {
     "name": "stdout",
     "output_type": "stream",
     "text": [
      "2.9\n"
     ]
    }
   ],
   "source": [
    "temps = 6.812\n",
    "distance = 19.7\n",
    "vitesse = distance/temps\n",
    "myRoundNumber = round(vitesse, 1)\n",
    "print(myRoundNumber)"
   ]
  },
  {
   "cell_type": "markdown",
   "metadata": {
    "id": "2d0f1ff9"
   },
   "source": [
    "**Exercice 12:** \n",
    "> **Écrire un programme qui, à partir de la saisie d’un rayon et d’une hauteur, calcule levolume d’un cône droit.**"
   ]
  },
  {
   "cell_type": "code",
   "execution_count": null,
   "metadata": {
    "id": "969f5f68"
   },
   "outputs": [],
   "source": [
    "r = float(input(\"Entrer un rayon : \"))\n",
    "h = float(input(\"Entrer une hauteur: \"))\n",
    "pi = 3.14\n",
    "volume = (pi*r*r*h)/3\n",
    "print(volume)"
   ]
  },
  {
   "cell_type": "markdown",
   "metadata": {
    "id": "e9b3ce2a"
   },
   "source": [
    "**Exercise 13:** \n",
    "> **L'utilisateur donne un entier positif et le programme annonce combien de fois de suite cet entier est divisible par 2.**"
   ]
  },
  {
   "cell_type": "code",
   "execution_count": 48,
   "metadata": {
    "id": "5c8fea9a"
   },
   "outputs": [
    {
     "name": "stdout",
     "output_type": "stream",
     "text": [
      "Entrez un entier strictement positif :2\n",
      "2 est 1 fois divisible par 2.\n"
     ]
    }
   ],
   "source": [
    "n = int(input(\"Entrez un entier strictement positif :\"))\n",
    "while n < 1:\n",
    "    n = int(input(\"Entrez un entier STRICTEMENT POSITIF, s.v.p. :\"))\n",
    "svg = n\n",
    "\n",
    "cpt = 0\n",
    "while n%2 == 0:\n",
    "    n /= 2\n",
    "    cpt += 1\n",
    "\n",
    "print(svg, \"est\", cpt, \"fois divisible par 2.\")\n"
   ]
  },
  {
   "cell_type": "markdown",
   "metadata": {
    "id": "0485aed6"
   },
   "source": [
    "**Exercise 14:** \n",
    ">**L'utilisateur donne un nombre entier entre 2 et 12, le programme donne le nombre de façons de le faire en lançant deux dés.**"
   ]
  },
  {
   "cell_type": "code",
   "execution_count": 50,
   "metadata": {
    "id": "31f48a15"
   },
   "outputs": [
    {
     "name": "stdout",
     "output_type": "stream",
     "text": [
      "Entrez un entier [2 .. 12] :2\n"
     ]
    },
    {
     "ename": "KeyError",
     "evalue": "' '",
     "output_type": "error",
     "traceback": [
      "\u001b[0;31m---------------------------------------------------------------------------\u001b[0m",
      "\u001b[0;31mKeyError\u001b[0m                                  Traceback (most recent call last)",
      "\u001b[0;32m<ipython-input-50-49f464ac4403>\u001b[0m in \u001b[0;36m<module>\u001b[0;34m\u001b[0m\n\u001b[1;32m      9\u001b[0m             \u001b[0ms\u001b[0m \u001b[0;34m+=\u001b[0m \u001b[0;36m1\u001b[0m\u001b[0;34m\u001b[0m\u001b[0;34m\u001b[0m\u001b[0m\n\u001b[1;32m     10\u001b[0m \u001b[0;34m\u001b[0m\u001b[0m\n\u001b[0;32m---> 11\u001b[0;31m \u001b[0mprint\u001b[0m\u001b[0;34m(\u001b[0m\u001b[0;34m\"Il y a { :d} façon(s) de faire { :d} avec deux dés.\"\u001b[0m\u001b[0;34m.\u001b[0m\u001b[0mformat\u001b[0m\u001b[0;34m(\u001b[0m\u001b[0ms\u001b[0m\u001b[0;34m,\u001b[0m \u001b[0mn\u001b[0m\u001b[0;34m)\u001b[0m\u001b[0;34m)\u001b[0m\u001b[0;34m\u001b[0m\u001b[0;34m\u001b[0m\u001b[0m\n\u001b[0m",
      "\u001b[0;31mKeyError\u001b[0m: ' '"
     ]
    }
   ],
   "source": [
    "n = int(input(\"Entrez un entier [2 .. 12] :\"))\n",
    "while not(n >= 2 and n <= 12) :\n",
    "    n = int(input(\"Entrez un entier [2 .. 12], s.v.p. :\"))\n",
    "\n",
    "s = 0\n",
    "for i in range(1, 7) :\n",
    "    for j in range(1, 7) :\n",
    "        if i+j == n :\n",
    "            s += 1"
   ]
  },
  {
   "cell_type": "markdown",
   "metadata": {
    "id": "cead0c8f"
   },
   "source": [
    "**Exercice 15:** \n",
    "> **Utilisez la fonction d'entrée intégrée `input()` pour obtenir le `_prénom_`, le `_nom_`, le `_pays_d_origine` et l'`_age_` d'un utilisateur et stockez la valeur dans les noms des variables correspondantes.**"
   ]
  },
  {
   "cell_type": "code",
   "execution_count": null,
   "metadata": {
    "id": "0a2694a9"
   },
   "outputs": [],
   "source": [
    "prenom = input(\"Donnez votre prenom: \")\n",
    "nom = input(\"Donnez votre nom: \")\n",
    "pays_d_origine = input(\"Donnez votre pays dorigine: \")\n",
    "age = int(input(\"Donnez votre age: \"))\n"
   ]
  },
  {
   "cell_type": "markdown",
   "metadata": {
    "id": "33240a56"
   },
   "source": [
    "**Exercice 16:** \n",
    "\n",
    "**Déclarer $5$ comme `num_one` et $4$ comme `num_two`**\n",
    "\n",
    "   1. Additionner `num_one` et `num_two` et affecter la valeur à une variable `totale`.\n",
    "   2. Soustraire `num_two` de `num_one` et affecter la valeur à une variable `diff`.\n",
    "   3. Multipliez le `num_one` et le `num_two` et attribuez la valeur à une variable `produit`.\n",
    "   4. Divisez le `num_one` par le `num_two` et attribuez la valeur à une variable `division`.\n",
    "   5. Calculez `num_one` à la puissance de `num_two` et attribuez la valeur à une variable `exp`."
   ]
  },
  {
   "cell_type": "code",
   "execution_count": null,
   "metadata": {
    "id": "c2f3e814"
   },
   "outputs": [],
   "source": [
    "num_one = 5\n",
    "num_two = 4\n",
    "totale = num_one + num_two \n",
    "diff = num_one - num_two\n",
    "produit = num_one*num_two\n",
    "division = num_one/num_two\n",
    "exp = num_one**num_two"
   ]
  },
  {
   "cell_type": "markdown",
   "metadata": {
    "id": "80763237"
   },
   "source": [
    "<center> <b> <span style=\"color:orange;\"> 🎉 FÉLICITATIONS! 🎉 </span> </b></center>"
   ]
  }
 ],
 "metadata": {
  "colab": {
   "collapsed_sections": [],
   "name": "In2Py_TP_01.ipynb",
   "provenance": []
  },
  "kernelspec": {
   "display_name": "Python 3",
   "language": "python",
   "name": "python3"
  },
  "language_info": {
   "codemirror_mode": {
    "name": "ipython",
    "version": 3
   },
   "file_extension": ".py",
   "mimetype": "text/x-python",
   "name": "python",
   "nbconvert_exporter": "python",
   "pygments_lexer": "ipython3",
   "version": "3.8.10"
  }
 },
 "nbformat": 4,
 "nbformat_minor": 5
}
