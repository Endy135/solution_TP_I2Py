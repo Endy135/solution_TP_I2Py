{
 "cells": [
  {
   "cell_type": "markdown",
   "metadata": {
    "id": "QYZn2ujP9tcA"
   },
   "source": [
    "\n",
    "\n",
    "### <center> <b> <span style=\"color:blue;\"> Travaux Pratiques: Fonctions</span> </b></center>\n",
    "\n"
   ]
  },
  {
   "cell_type": "markdown",
   "metadata": {
    "id": "iMDzVKcl9tcE"
   },
   "source": [
    "#### **Exercice 00:**  \n",
    "> **Écrire une fonction `cube` qui retourne le cube de son argument.**"
   ]
  },
  {
   "cell_type": "code",
   "execution_count": 1,
   "metadata": {},
   "outputs": [
    {
     "name": "stdout",
     "output_type": "stream",
     "text": [
      "ENntrer un entier: 3\n",
      "27\n"
     ]
    }
   ],
   "source": [
    "def cube(a):\n",
    "    return a**3\n",
    "a=int(input(\"ENntrer un entier: \"))\n",
    "print(cube(a))"
   ]
  },
  {
   "cell_type": "markdown",
   "metadata": {
    "id": "m1ac89qS9tcH"
   },
   "source": [
    "#### **Exercice 01:**  \n",
    "> **Déclarez une fonction `ajouter_deux_nombres`. Elle prend deux paramètres et renvoie leur somme.**"
   ]
  },
  {
   "cell_type": "code",
   "execution_count": 2,
   "metadata": {
    "id": "E_AgGmNy9tcH"
   },
   "outputs": [
    {
     "name": "stdout",
     "output_type": "stream",
     "text": [
      "ENntrer un entier: 23\n",
      "ENntrer un entier: 3\n",
      "26.0\n"
     ]
    }
   ],
   "source": [
    "def ajouter_deux_nombres(a,b):\n",
    "    return (a+b)\n",
    "a = float(input(\"ENntrer un entier: \"))\n",
    "b = float(input(\"ENntrer un entier: \"))\n",
    "s = ajouter_deux_nombres(a,b)\n",
    "print(s)\n",
    "\n"
   ]
  },
  {
   "cell_type": "markdown",
   "metadata": {
    "id": "PKjvAV4y9tcJ"
   },
   "source": [
    "#### **Exercice 02:**  \n",
    "> **L'aire d'un cercle se calcule comme suit : aire = pi x r x r avec pi=3,14. Écrivez une fonction `aire_du_cercle` qui prend le rayon en argument et calcule l'aire du cercle correspodant.**"
   ]
  },
  {
   "cell_type": "code",
   "execution_count": 5,
   "metadata": {
    "id": "AxGzHKXX9tcL"
   },
   "outputs": [
    {
     "name": "stdout",
     "output_type": "stream",
     "text": [
      "Entrer un entier positif: -2\n",
      "-1\n"
     ]
    }
   ],
   "source": [
    "def aire_du_cercle(r):\n",
    "    if(r>=0):\n",
    "        return (pi*r*r)\n",
    "    else:\n",
    "        return -1\n",
    "pi = 3.14\n",
    "r = float(input(\"Entrer un entier positif: \"))\n",
    "Ac=aire_du_cercle(r)\n",
    "print(Ac)\n",
    "\n",
    "\n"
   ]
  },
  {
   "cell_type": "markdown",
   "metadata": {
    "id": "6OBRL3oj9tcL"
   },
   "source": [
    "#### **Exercice 03:**  \n",
    "> **La température en °C peut être convertie en °F à l'aide de cette formule : °F = (°C x 9/5) + 32. Écrivez une fonction `convert_celsius_en_fahrenheit` qui convertit les °C en °F**."
   ]
  },
  {
   "cell_type": "code",
   "execution_count": null,
   "metadata": {
    "colab": {
     "base_uri": "https://localhost:8080/"
    },
    "id": "LpDPEBxn9tcN",
    "outputId": "7c62c4a2-828a-4eea-e995-a89e3acda0ed"
   },
   "outputs": [
    {
     "name": "stdout",
     "output_type": "stream",
     "text": [
      "Enter the value in celsius 80\n",
      "176.0\n"
     ]
    }
   ],
   "source": [
    "C=float(input('Enter the value in celsius '))\n",
    "def Fahre(C):\n",
    "  F=(C*9/5)+32\n",
    "  return F\n",
    "C\n",
    "print(Fahre(C))\n"
   ]
  },
  {
   "cell_type": "markdown",
   "metadata": {
    "id": "rJRPsZ2h9tcP"
   },
   "source": [
    "#### **Exercice 04:** \n",
    ">**Écrire une fonction somme avec un argument « tuple de longueur variable » qui calcule la somme des nombres contenus dans le tuple.Tester cette fonction par des appels avec différents tuples d’entiers ou de flottants.**"
   ]
  },
  {
   "cell_type": "code",
   "execution_count": 6,
   "metadata": {
    "colab": {
     "base_uri": "https://localhost:8080/"
    },
    "id": "7qn8Czdc9tcP",
    "outputId": "998d9d34-3e4c-4a64-f02e-9faa0ff36abe"
   },
   "outputs": [
    {
     "name": "stdout",
     "output_type": "stream",
     "text": [
      "50\n",
      "30\n"
     ]
    }
   ],
   "source": [
    "def somme(*args):\n",
    "    resultat = 0\n",
    "    for nombre in args:\n",
    "        resultat += nombre\n",
    "    return resultat\n",
    "print(somme(12,32,6))\n",
    "print(somme(12,18))\n",
    "\n"
   ]
  },
  {
   "cell_type": "markdown",
   "metadata": {
    "id": "kls1kYNh9tcR"
   },
   "source": [
    "#### **Exercice 05:** \n",
    ">**Ecrire `somme_liste` qui calcule la somme des nombres contenus dans une liste.Tester cette fonction par des appels avec différents listes d’entiers ou de flottants.**"
   ]
  },
  {
   "cell_type": "markdown",
   "metadata": {
    "id": "l4gQECfk9tcS"
   },
   "source": [
    "#### **Exercice 06:** \n",
    ">**Écrire une fonction somme qui  prend en argument un entier $n$ et retourne la somme  des $n$-prémiers entiers naturels.**"
   ]
  },
  {
   "cell_type": "code",
   "execution_count": 10,
   "metadata": {},
   "outputs": [
    {
     "name": "stdout",
     "output_type": "stream",
     "text": [
      "Entrer un entier positif: 10\n",
      "55\n"
     ]
    }
   ],
   "source": [
    "def somme(n):\n",
    "    som=0\n",
    "    for i in range (0,n+1):\n",
    "        som = som + i\n",
    "    return som\n",
    "n = int(input(\"Entrer un entier positif: \"))\n",
    "print(somme(n))\n",
    "\n",
    "        "
   ]
  },
  {
   "cell_type": "markdown",
   "metadata": {
    "id": "tK9EsjZf9tcU"
   },
   "source": [
    "#### **Exercice 07:** \n",
    ">**Écrire une fonction `nom` qui demande à l'utilisateur d'entrer son nom ensuite son prénom et affiche son prénom suivit de son nom.**"
   ]
  },
  {
   "cell_type": "code",
   "execution_count": 15,
   "metadata": {},
   "outputs": [
    {
     "name": "stdout",
     "output_type": "stream",
     "text": [
      "Entrer votre nom: NKD\n",
      "Entrer votre prenom: DIANA\n",
      "votre prenom  DIANA\n",
      "votre nom est  NKD\n"
     ]
    }
   ],
   "source": [
    "def nom():\n",
    "    nom=input('Entrer votre nom: ')\n",
    "    prenom=input('Entrer votre prenom: ')\n",
    "    print('votre prenom ',prenom)\n",
    "    print('votre nom est ',nom)\n",
    "    \n",
    "nom()"
   ]
  },
  {
   "cell_type": "markdown",
   "metadata": {
    "id": "YSwrwcEz9tcX"
   },
   "source": [
    "#### **Exercice 08:** \n",
    ">**Écrire une fonction `nom` qui demande à l'utilisateur d'entrer son nom ensuite son prénom et affiche son prénom suivit de son nom.**"
   ]
  },
  {
   "cell_type": "code",
   "execution_count": null,
   "metadata": {
    "id": "mRk-8h1P9tcZ"
   },
   "outputs": [],
   "source": [
    "def nom():\n",
    "    nom=input('Entrer votre nom: ')\n",
    "    prenom=input('Entrer votre prenom: ')\n",
    "    print('votre prenom ',prenom)\n",
    "    print('votre nom est ',nom)\n",
    "    \n",
    "nom()"
   ]
  },
  {
   "cell_type": "markdown",
   "metadata": {
    "id": "VYtzHXAd9tck"
   },
   "source": [
    "#### **Exercice 09:** \n",
    ">**Ecris une fonction `Maximum` qui renvoie le minimum de trois nombres.**"
   ]
  },
  {
   "cell_type": "code",
   "execution_count": 17,
   "metadata": {},
   "outputs": [
    {
     "name": "stdout",
     "output_type": "stream",
     "text": [
      "Entrer un entier positif: 22\n",
      "Entrer un entier positif: 2\n",
      "Entrer un entier positif: -32\n",
      "-32.0\n"
     ]
    }
   ],
   "source": [
    "def Maximum(a,b,c):\n",
    "    return min(a,b,c)\n",
    "a=float(input(\"Entrer un entier positif: \"))\n",
    "b=float(input(\"Entrer un entier positif: \"))\n",
    "c=float(input(\"Entrer un entier positif: \"))\n",
    "print(Maximum(a,b,c))"
   ]
  },
  {
   "cell_type": "markdown",
   "metadata": {
    "id": "gTpTAnGm9tcm"
   },
   "source": [
    "#### **Exercice 10:**\n",
    ">**Soit $f(x)=ax^2+bx+c$ un trinôme du second degré.**\n",
    " 1. **Ecris une fonction `Discriminant` qui calcule son discriminant.**\n",
    " 2. **Ecris ensuite une fonction `existence_des_racines_du_trinome` qui discute suivant les valeurs du discriminant, l'existence de ses racines.** \n"
   ]
  },
  {
   "cell_type": "code",
   "execution_count": 19,
   "metadata": {},
   "outputs": [
    {
     "name": "stdout",
     "output_type": "stream",
     "text": [
      "Entrer un entier positif: 1\n",
      "Entrer un entier positif: -2\n",
      "Entrer un entier positif: 1\n",
      "admet un solutin double\n"
     ]
    }
   ],
   "source": [
    "def Discriminant(a,b,c):\n",
    "    return (b*b-4*a*c)\n",
    "def existence_des_racines_du_trinome(d):\n",
    "    if(d<0):\n",
    "        print('pas de solution')\n",
    "    elif(d==0):\n",
    "        print('admet un solutin double')\n",
    "    else:\n",
    "        print('admet deux solutions distinctes')\n",
    "\n",
    "a=float(input(\"Entrer un entier positif: \"))\n",
    "b=float(input(\"Entrer un entier positif: \"))\n",
    "c=float(input(\"Entrer un entier positif: \"))\n",
    "existence_des_racines_du_trinome(Discriminant(a,b,c))\n",
    "\n",
    "\n",
    "    "
   ]
  },
  {
   "cell_type": "markdown",
   "metadata": {
    "id": "WgJ06GHA9tcn"
   },
   "source": [
    "#### **Exercice 11:**\n",
    ">**Ecris une fonction qui affiche le reste de la division euclidienne d'un entier naturel $a$ par un entier naturel $b$**.\n"
   ]
  },
  {
   "cell_type": "code",
   "execution_count": 21,
   "metadata": {
    "id": "S1uM-Jca9tcn"
   },
   "outputs": [
    {
     "name": "stdout",
     "output_type": "stream",
     "text": [
      "Entrer un nombre: 2\n",
      "Entrer un nombre: 2\n",
      "0.0\n"
     ]
    }
   ],
   "source": [
    "def reste(a,b):\n",
    "    r=a%b\n",
    "    print(r)\n",
    "a=float(input(\"Entrer un nombre: \"))\n",
    "b=float(input(\"Entrer un nombre: \"))\n",
    "reste(a,b)"
   ]
  },
  {
   "cell_type": "markdown",
   "metadata": {
    "id": "dtC_cOVJ9tco"
   },
   "source": [
    "#### **Exercice 12:**\n",
    ">**Ecris une fonction `terme_suite_geometrique` qui affiche le n-ième terme d'une suite géométrique $(v_n)$ de premier terme $v_0$ et de raison $q$. Teste ce programme pour $v_0=2, q=3$ et $n=4$.**"
   ]
  },
  {
   "cell_type": "code",
   "execution_count": 23,
   "metadata": {
    "id": "TeLDRV8N9tco"
   },
   "outputs": [
    {
     "name": "stdout",
     "output_type": "stream",
     "text": [
      "terme de la suite a calculer2\n",
      "162\n"
     ]
    }
   ],
   "source": [
    "def terme_suite_geometrique(v0,q,n):\n",
    "    return (q**n)*v0\n",
    "n=int(input('terme de la suite a calculer'))\n",
    "V=terme_suite_geometrique(2,3,4)\n",
    "print(V)\n",
    "\n",
    "    "
   ]
  },
  {
   "cell_type": "markdown",
   "metadata": {
    "id": "GrmGuHwu9tco"
   },
   "source": [
    "#### **Exercice 13:**\n",
    ">**Écris une fonction `merci` prend en paramètre un `nom` et renvoie le message \"Merci pour votre présence à cet atelier,`nom`.**\n"
   ]
  },
  {
   "cell_type": "code",
   "execution_count": 24,
   "metadata": {},
   "outputs": [
    {
     "name": "stdout",
     "output_type": "stream",
     "text": [
      "entrez votre nom: DIANA\n",
      "Merci pour votre presense a cet atelier, DIANA\n"
     ]
    }
   ],
   "source": [
    "def merci(nom):\n",
    "    print('Merci pour votre presense a cet atelier,',nom)\n",
    "nom=input('entrez votre nom: ')\n",
    "merci(nom)"
   ]
  },
  {
   "cell_type": "markdown",
   "metadata": {
    "id": "T3jopRLc9tco"
   },
   "source": [
    "#### **Exercice 14:**\n",
    ">**Écris une fonction `ma_suite` qui définit la suite $(u_n)$ telle que  $$u_{n}=\\frac{2n^2+3n-1}{n+6}.$$\n",
    "Affiche son 5e terme.**\n"
   ]
  },
  {
   "cell_type": "code",
   "execution_count": 25,
   "metadata": {
    "id": "P1l82riw9tcp"
   },
   "outputs": [
    {
     "name": "stdout",
     "output_type": "stream",
     "text": [
      "5.818181818181818\n"
     ]
    }
   ],
   "source": [
    "def ma_suite(n):\n",
    "    return (2*n*n+3*n-1)/(n+6)\n",
    "print(ma_suite(5))"
   ]
  },
  {
   "cell_type": "markdown",
   "metadata": {
    "id": "SIizzU_A9tcp"
   },
   "source": [
    "\n",
    "\n",
    "<center> <b> <span style=\"color:orange;\"> 🎉 FÉLICITATIONS ! 🎉 </span> </b></center>"
   ]
  }
 ],
 "metadata": {
  "colab": {
   "collapsed_sections": [],
   "name": "In2Py_TP_05.ipynb",
   "provenance": []
  },
  "kernelspec": {
   "display_name": "Python 3",
   "language": "python",
   "name": "python3"
  },
  "language_info": {
   "codemirror_mode": {
    "name": "ipython",
    "version": 3
   },
   "file_extension": ".py",
   "mimetype": "text/x-python",
   "name": "python",
   "nbconvert_exporter": "python",
   "pygments_lexer": "ipython3",
   "version": "3.8.10"
  }
 },
 "nbformat": 4,
 "nbformat_minor": 5
}
