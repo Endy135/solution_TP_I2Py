{
 "cells": [
  {
   "cell_type": "markdown",
   "metadata": {
    "id": "QTGiuJVPhPxl"
   },
   "source": [
    "\n",
    "\n",
    "### <center> <b> <span style=\"color:blue;\"> Travaux Pratiques: Boucles </span> </b></center>\n"
   ]
  },
  {
   "cell_type": "markdown",
   "metadata": {
    "id": "6f-8X1xjhV4p"
   },
   "source": [
    " Exercice 0\n",
    "On se propose de résoudre dans l'ensemble des entiers naturels l'inéquation $2n(n+1)<100$.\n",
    "En utilisant une boucle **While**, écris un programme qui renvoie les solutions entières de cette inéquation."
   ]
  },
  {
   "cell_type": "code",
   "execution_count": null,
   "metadata": {},
   "outputs": [],
   "source": []
  },
  {
   "cell_type": "markdown",
   "metadata": {
    "id": "USaieP9c9Nc5"
   },
   "source": [
    "#### Exercice 1\n",
    "> En utilisant une boucle **For**, écris un programme qui calcule la somme des 30 premiers entiers naturels non nuls."
   ]
  },
  {
   "cell_type": "code",
   "execution_count": null,
   "metadata": {
    "id": "-a76WFyH9Nc7"
   },
   "outputs": [],
   "source": [
    "som = 0\n",
    "for i in range(1,31):\n",
    "    som = som + i\n",
    "print(som)"
   ]
  },
  {
   "cell_type": "markdown",
   "metadata": {
    "id": "_070Czs09Nc8"
   },
   "source": [
    "#### Exercice 2\n",
    ">Refais l'exercice 1 en utilisant une boucle **While**."
   ]
  },
  {
   "cell_type": "code",
   "execution_count": 6,
   "metadata": {
    "id": "83HZ7Cc2FxUe"
   },
   "outputs": [
    {
     "name": "stdout",
     "output_type": "stream",
     "text": [
      "465\n"
     ]
    }
   ],
   "source": [
    "som = 0\n",
    "i  = 1\n",
    "while i<31:\n",
    "    som = som + i\n",
    "    i = i + 1\n",
    "print(som)"
   ]
  },
  {
   "cell_type": "code",
   "execution_count": null,
   "metadata": {
    "id": "m7dg2bhR9Nc9"
   },
   "outputs": [],
   "source": []
  },
  {
   "cell_type": "markdown",
   "metadata": {
    "id": "Hg1vBggc9Nc_"
   },
   "source": [
    "#### Exercice 3\n",
    ">En utilisant une boucle **For**, écris un programme qui calcule le produit des 9 premiers entiers naturels non nuls."
   ]
  },
  {
   "cell_type": "code",
   "execution_count": 7,
   "metadata": {
    "id": "h0TkyvqS9NdB"
   },
   "outputs": [
    {
     "name": "stdout",
     "output_type": "stream",
     "text": [
      "362880\n"
     ]
    }
   ],
   "source": [
    "prod = 1\n",
    "for i in range(1,10):\n",
    "    prod = prod*i\n",
    "print(prod)\n"
   ]
  },
  {
   "cell_type": "markdown",
   "metadata": {
    "id": "a2iZm5y_9NdD"
   },
   "source": [
    "#### Exercice 4\n",
    "> Refais l'exercice 3 en utilisant une boucle **While**."
   ]
  },
  {
   "cell_type": "code",
   "execution_count": 9,
   "metadata": {},
   "outputs": [],
   "source": [
    "prod = 1\n",
    "i = 1\n",
    "while i<10:\n",
    "    prod = prod*i\n",
    "    i = i+1"
   ]
  },
  {
   "cell_type": "markdown",
   "metadata": {
    "id": "rb3k7Bve9NdE"
   },
   "source": [
    "#### Exercice 5 \n",
    ">Écris un programme qui demande à l'utilisateur de saisir un nombre n et qui affiche tous les nombres pairs de $1$ à $n$ en utilisant la boucle **For**."
   ]
  },
  {
   "cell_type": "code",
   "execution_count": 16,
   "metadata": {
    "id": "ibXs9RCB9NdF"
   },
   "outputs": [
    {
     "name": "stdout",
     "output_type": "stream",
     "text": [
      "Entrez un nombre entier :1\n"
     ]
    }
   ],
   "source": [
    "n = int(input(\"Entrez un nombre entier :\"))\n",
    "for i in range(1,n+1):\n",
    "    if(i%2==0):\n",
    "        print(i)\n",
    "    "
   ]
  },
  {
   "cell_type": "markdown",
   "metadata": {
    "id": "HPC3bfyE9NdG"
   },
   "source": [
    "#### Exercice 6\n",
    ">Refais l'exercice 5 en utilisant la boucle **While**."
   ]
  },
  {
   "cell_type": "code",
   "execution_count": 19,
   "metadata": {
    "id": "dRuTyo3m9NdH"
   },
   "outputs": [
    {
     "name": "stdout",
     "output_type": "stream",
     "text": [
      "Entrez un nombre entier :12\n",
      "2\n",
      "4\n",
      "6\n",
      "8\n",
      "10\n",
      "12\n"
     ]
    }
   ],
   "source": [
    "n = int(input(\"Entrez un nombre entier :\"))\n",
    "i = 1\n",
    "while i<n+1:\n",
    "    if(i%2==0):\n",
    "        print(i)\n",
    "    i = i + 1"
   ]
  },
  {
   "cell_type": "markdown",
   "metadata": {
    "id": "6fNPIIdQ9NdH"
   },
   "source": [
    "#### Exercice 7\n",
    ">Écris un programme qui demande à l'utilisateur de saisir un nombre n et qui affiche tous les nombres impairs de 1 à n en utilisant la boucle **For**."
   ]
  },
  {
   "cell_type": "code",
   "execution_count": 20,
   "metadata": {
    "id": "LuVEv9Lc9NdI"
   },
   "outputs": [
    {
     "name": "stdout",
     "output_type": "stream",
     "text": [
      "Entrez un nombre entier :12\n",
      "1\n",
      "3\n",
      "5\n",
      "7\n",
      "9\n",
      "11\n"
     ]
    }
   ],
   "source": [
    "n = int(input(\"Entrez un nombre entier :\"))\n",
    "for i in range(1,n+1):\n",
    "    if(i%2):\n",
    "        print(i)\n",
    "    "
   ]
  },
  {
   "cell_type": "markdown",
   "metadata": {
    "id": "HIlapsJ89NdK"
   },
   "source": [
    "#### Exercice 8\n",
    ">Refais l'exercice 7 en utilisant la boucle **While**.\n",
    "\n"
   ]
  },
  {
   "cell_type": "code",
   "execution_count": 22,
   "metadata": {
    "id": "Igvjeb2E9NdM"
   },
   "outputs": [
    {
     "name": "stdout",
     "output_type": "stream",
     "text": [
      "Entrez un nombre entier :1\n",
      "1\n"
     ]
    }
   ],
   "source": [
    "n = int(input(\"Entrez un nombre entier :\"))\n",
    "i = 1\n",
    "while i<n+1:\n",
    "    if(i%2):\n",
    "        print(i)\n",
    "    i = i + 1"
   ]
  },
  {
   "cell_type": "markdown",
   "metadata": {
    "id": "KOYLg_e79NdU"
   },
   "source": [
    "#### Exercice 9\n",
    ">Écris un programme qui demande à l'utilisateur de saisir un nombre n et qui affiche sa table de multiplication  en utilisant la boucle **For**."
   ]
  },
  {
   "cell_type": "code",
   "execution_count": 30,
   "metadata": {
    "id": "BvOU9oLw9NdU"
   },
   "outputs": [
    {
     "name": "stdout",
     "output_type": "stream",
     "text": [
      "Entrez un nombre entier :3\n",
      "3 * 1 = 3\n",
      "3 * 2 = 6\n",
      "3 * 3 = 9\n",
      "3 * 4 = 12\n",
      "3 * 5 = 15\n",
      "3 * 6 = 18\n",
      "3 * 7 = 21\n",
      "3 * 8 = 24\n",
      "3 * 9 = 27\n",
      "3 * 10 = 30\n"
     ]
    }
   ],
   "source": [
    "n = int(input(\"Entrez un nombre entier :\"))\n",
    "for i in range(1,11):\n",
    "    print(n,'*',i,'=',i*n) "
   ]
  },
  {
   "cell_type": "markdown",
   "metadata": {
    "id": "Ukzy78L09NdV"
   },
   "source": [
    "#### Exercice 10\n",
    ">Refais l'exercice 9 en utilisant la boucle **While**."
   ]
  },
  {
   "cell_type": "code",
   "execution_count": 35,
   "metadata": {
    "id": "fRJ3oufC9NdV"
   },
   "outputs": [
    {
     "name": "stdout",
     "output_type": "stream",
     "text": [
      "Entrez un nombre entier :3\n",
      "3 * 1 = 3\n",
      "3 * 2 = 6\n",
      "3 * 3 = 9\n",
      "3 * 4 = 12\n",
      "3 * 5 = 15\n",
      "3 * 6 = 18\n",
      "3 * 7 = 21\n",
      "3 * 8 = 24\n",
      "3 * 9 = 27\n",
      "3 * 10 = 30\n"
     ]
    }
   ],
   "source": [
    "n = int(input(\"Entrez un nombre entier :\"))\n",
    "i = 1\n",
    "while i<11:\n",
    "    print(n,'*',i,'=',i*n)\n",
    "    i = i+1\n",
    "    "
   ]
  },
  {
   "cell_type": "markdown",
   "metadata": {
    "id": "AQW435Hq9NdW"
   },
   "source": [
    "#### Exercice 11\n",
    ">Écris un programme qui demande à l'utilisateur d'entrer un nombre et de trouver tous ses diviseurs  en utilisant la boucle **For**."
   ]
  },
  {
   "cell_type": "code",
   "execution_count": 38,
   "metadata": {
    "id": "Zjs_NfT89NdX"
   },
   "outputs": [
    {
     "name": "stdout",
     "output_type": "stream",
     "text": [
      "Entrez un nombre entier :1\n",
      "1\n"
     ]
    }
   ],
   "source": [
    "n = int(input(\"Entrez un nombre entier :\"))\n",
    "for i in range(1,n+1):\n",
    "    if(n%i==0):\n",
    "        print(i)"
   ]
  },
  {
   "cell_type": "markdown",
   "metadata": {
    "id": "pGp6labk9NdX"
   },
   "source": [
    "#### Exercice 12\n",
    ">Écris un programme qui demande à l'utilisateur d'entrer un entier naturel n et de trouver tous sa factorielle n!  en utilisant la boucle **For**. On rappelle que $n!=n*(n-1)*(n-2)...3*2*1$."
   ]
  },
  {
   "cell_type": "code",
   "execution_count": 74,
   "metadata": {
    "id": "iDw3TKDU9NdX"
   },
   "outputs": [
    {
     "name": "stdout",
     "output_type": "stream",
     "text": [
      "Entrez un nombre entier superieur ou egal a zero :0\n",
      "1\n"
     ]
    }
   ],
   "source": [
    "fac = 1\n",
    "n = int(input(\"Entrez un nombre entier superieur ou egal a zero :\"))\n",
    "while (n<0):\n",
    "    n = int(input(\"Entrez un nombre entier superieur ou egal a zero :\"))\n",
    "    if n==0:\n",
    "        fac=1\n",
    "else:\n",
    "        for i in range(1,n+1):\n",
    "            fac = fac*i\n",
    "print(fac)\n",
    "    "
   ]
  },
  {
   "cell_type": "markdown",
   "metadata": {
    "id": "eyKh1oTo9NdY"
   },
   "source": [
    "#### Exercice 13\n",
    ">Écris un programme qui demande à l'utilisateur d'entrer deux entiers naturels (plus petits que 15) et de trouver leur plus petit commun multiple utilisant la boucle **For**."
   ]
  },
  {
   "cell_type": "code",
   "execution_count": 46,
   "metadata": {},
   "outputs": [
    {
     "name": "stdout",
     "output_type": "stream",
     "text": [
      "Entrez un nombre entier dans [1 .. 15] :12\n",
      "Entrez un nombre entier dans [1 .. 15]:33\n",
      "Entrez un entier [1 .. 15], s.v.p. :4\n"
     ]
    }
   ],
   "source": [
    "n = int(input(\"Entrez un nombre entier dans [1 .. 15] :\"))\n",
    "m = int(input(\"Entrez un nombre entier dans [1 .. 15]:\"))\n",
    "a=list()\n",
    "b=list()\n",
    "while (n<1 or n>15):\n",
    "    n = int(input(\"Entrez un entier [1 .. 15], s.v.p. :\"))\n",
    "while (m<1 or m>15):\n",
    "    m = int(input(\"Entrez un entier [1 .. 15], s.v.p. :\"))\n",
    "for i in range (1,n+1):\n",
    "    if (n%i==0):\n",
    "        a.append\n",
    "    \n",
    "\n"
   ]
  },
  {
   "cell_type": "markdown",
   "metadata": {
    "id": "j4zO7-ak9NdZ"
   },
   "source": [
    "#### Exercice 14\n",
    ">Écris un programme pour afficher la série de Fibonacci jusqu'à n termes en utilisant une boucle."
   ]
  },
  {
   "cell_type": "code",
   "execution_count": 50,
   "metadata": {
    "id": "5UknLOdY9NdZ"
   },
   "outputs": [
    {
     "name": "stdout",
     "output_type": "stream",
     "text": [
      "Entrez le nombre de termes:10\n",
      "Suite de Fibonacci en utilisant la recursion :\n",
      "0\n",
      "1\n",
      "1\n",
      "2\n",
      "3\n",
      "5\n",
      "8\n",
      "13\n",
      "21\n",
      "34\n"
     ]
    }
   ],
   "source": [
    " def fibonacci(n):\n",
    "    if(n <= 1):\n",
    "        return n\n",
    "    else:\n",
    "        return (fibonacci(n-1) + fibonacci(n-2))\n",
    "n = int(input(\"Entrez le nombre de termes:\"))\n",
    "print(\"Suite de Fibonacci en utilisant la recursion :\")\n",
    "for i in range(n):\n",
    "    print(fibonacci(i))"
   ]
  },
  {
   "cell_type": "markdown",
   "metadata": {
    "id": "_RBVFZdl9Nda"
   },
   "source": [
    "#### Exercice 15\n",
    ">Écris, en utilisant une boucle **For**, un programme pour afficher 5 fois de suite le message \"Python est un très bon langage de programmation\"."
   ]
  },
  {
   "cell_type": "code",
   "execution_count": 52,
   "metadata": {},
   "outputs": [
    {
     "name": "stdout",
     "output_type": "stream",
     "text": [
      "Python est un très bon langage de programmation\n"
     ]
    }
   ],
   "source": [
    "for i in range(1,6):\n",
    "    print(\"Python est un très bon langage de programmation\")"
   ]
  },
  {
   "cell_type": "markdown",
   "metadata": {
    "id": "VUgurSg59Nda"
   },
   "source": [
    "#### Exercice 16\n",
    ">Écris, en utilisant une boucle **While**, un programme pour afficher 7 fois de suite le message \"A cette allure je finirai par tout abandonner pour la programmation\"."
   ]
  },
  {
   "cell_type": "code",
   "execution_count": 55,
   "metadata": {
    "id": "TgE99bdh9Ndb"
   },
   "outputs": [
    {
     "name": "stdout",
     "output_type": "stream",
     "text": [
      "A cette allure je finirai par tout abandonner pour la programmation\n"
     ]
    }
   ],
   "source": [
    "i = 1\n",
    "while (i<2):\n",
    "    print(\"A cette allure je finirai par tout abandonner pour la programmation\")\n",
    "    i = i+1"
   ]
  },
  {
   "cell_type": "markdown",
   "metadata": {
    "id": "DVgTXQRX9Ndb"
   },
   "source": [
    "#### Exercice 17\n",
    ">Écris, en utilisant une boucle **For**, un programme qui compte à l'envers de 10 à 0 puis qui affiche le message \"Partez\".\n"
   ]
  },
  {
   "cell_type": "code",
   "execution_count": 69,
   "metadata": {
    "id": "w4L4KV6C9Ndc"
   },
   "outputs": [
    {
     "name": "stdout",
     "output_type": "stream",
     "text": [
      "11\n",
      "partez\n"
     ]
    }
   ],
   "source": [
    "cpt=0\n",
    "for i in range (11,0,-1):\n",
    "    cpt = cpt+1\n",
    "print(cpt)\n",
    "print(\"partez\")\n",
    "    "
   ]
  },
  {
   "cell_type": "markdown",
   "metadata": {
    "id": "raJAaAd29Ndc"
   },
   "source": [
    "#### Exercice 18\n",
    ">Écris, en utilisant une boucle **For**, un programme qui affiche chaque élément d'une chaine de caractère."
   ]
  },
  {
   "cell_type": "code",
   "execution_count": 66,
   "metadata": {},
   "outputs": [
    {
     "name": "stdout",
     "output_type": "stream",
     "text": [
      "Entrez une chaine de caractere: ae\n",
      "a\n",
      "e\n"
     ]
    }
   ],
   "source": [
    "chaine = input(\"Entrez une chaine de caractere: \")\n",
    "for i in range (0,len(chaine)):\n",
    "    print(chaine[i])\n",
    "    "
   ]
  },
  {
   "cell_type": "markdown",
   "metadata": {
    "id": "095_Dtoc9Ndf"
   },
   "source": [
    "#### Exercice 19\n",
    ">Écris, en utilisant une boucle **For**, un programme qui compte à l'envers de 10 à 0 puis qui affiche le message \"Partez\"."
   ]
  },
  {
   "cell_type": "code",
   "execution_count": 70,
   "metadata": {
    "id": "MOV4pZzn9Ndg"
   },
   "outputs": [
    {
     "name": "stdout",
     "output_type": "stream",
     "text": [
      "11\n",
      "partez\n"
     ]
    }
   ],
   "source": [
    "cpt=0\n",
    "for i in range (11,0,-1):\n",
    "    cpt = cpt+1\n",
    "print(cpt)\n",
    "print(\"partez\")"
   ]
  },
  {
   "cell_type": "markdown",
   "metadata": {
    "id": "5sUU7dgJ9Ndh"
   },
   "source": [
    "<center> <b> <span style=\"color:orange;\"> 🎉 FÉLICITATIONS ! 🎉 </span> </b></center>"
   ]
  }
 ],
 "metadata": {
  "colab": {
   "collapsed_sections": [],
   "name": "In2Py_TP_04.ipynb",
   "provenance": []
  },
  "kernelspec": {
   "display_name": "Python 3",
   "language": "python",
   "name": "python3"
  }
 },
 "nbformat": 4,
 "nbformat_minor": 1
}
