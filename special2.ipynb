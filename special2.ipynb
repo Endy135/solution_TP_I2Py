{
 "cells": [
  {
   "cell_type": "code",
   "execution_count": 22,
   "metadata": {},
   "outputs": [
    {
     "name": "stdout",
     "output_type": "stream",
     "text": [
      "Donnez un reel positif: 0.5\n",
      "Donnez un autre reel: -90\n",
      "82979397828220.53\n",
      "ooops!!!!\n"
     ]
    }
   ],
   "source": [
    "#1\n",
    "import math\n",
    "x = float(input('Donnez un reel positif: '))\n",
    "y = float(input('Donnez un autre reel: '))\n",
    "if x!=0:\n",
    "    if (1/x)-math.sin(y)!=0:\n",
    "        print(((x**(2+y))**0.5)/((1/x)+2*math.sin(y)))\n",
    "    else:\n",
    "        print('pas possible de calculer')\n",
    "    \n"
   ]
  },
  {
   "cell_type": "code",
   "execution_count": 16,
   "metadata": {},
   "outputs": [
    {
     "name": "stdout",
     "output_type": "stream",
     "text": [
      "3\n"
     ]
    }
   ],
   "source": [
    "\n",
    "\n",
    "\n",
    "#2\n",
    "def ownpowerfn(n,b):\n",
    "    a=list()\n",
    "    prod=1\n",
    "    if n==0:\n",
    "        return 1\n",
    "    for i in range(0,n):\n",
    "        a.append(b)\n",
    "        prod=prod*a[i]\n",
    "    return prod\n",
    "print(ownpowerfn(1,3))\n",
    "    "
   ]
  },
  {
   "cell_type": "code",
   "execution_count": 16,
   "metadata": {},
   "outputs": [
    {
     "name": "stdout",
     "output_type": "stream",
     "text": [
      "True\n"
     ]
    }
   ],
   "source": [
    "#3\n",
    "l=list(range(0,11))\n",
    "res = True\n",
    "for i in range(1,len(l)):\n",
    "    if l[i-1]>l[i]:\n",
    "        res=False\n",
    "print(res)"
   ]
  },
  {
   "cell_type": "code",
   "execution_count": 3,
   "metadata": {},
   "outputs": [
    {
     "name": "stdout",
     "output_type": "stream",
     "text": [
      "1\n"
     ]
    }
   ],
   "source": [
    "#3a\n",
    "def arithmetic_mean(a,b):\n",
    "    return (a+b)//2\n",
    "def geometric_mean(a,b):\n",
    "    if a>0 and b>0:\n",
    "    return (a*b)**0.5\n"
   ]
  },
  {
   "cell_type": "code",
   "execution_count": 8,
   "metadata": {},
   "outputs": [
    {
     "name": "stdout",
     "output_type": "stream",
     "text": [
      "entrez une temperature en degre celcius: 25\n",
      "25 °C =  77.0 °F\n"
     ]
    }
   ],
   "source": [
    "#b\n",
    "def celcius_to_fahrenheit(T):\n",
    "    return 32 + T*(9/5)\n",
    "\n",
    "def fahrenheir_to_celcius(F):\n",
    "    return (F-32)*(5/9)\n",
    "\n",
    "T = float(input(\"entrez une temperature en degre celcius: \"))\n",
    "print(T,\"°C = \",celcius_to_fahrenheit(T),'°F')\n",
    "#F = float(input(\"entrez une temperature en degre fahrenheit: \"))\n",
    "#print(F,'°F = ',fahrenheir_to_celcius(32),'°C')"
   ]
  },
  {
   "cell_type": "code",
   "execution_count": 18,
   "metadata": {},
   "outputs": [
    {
     "name": "stdout",
     "output_type": "stream",
     "text": [
      "0.9999999999244445\n",
      "1.0000000000755556\n"
     ]
    }
   ],
   "source": [
    "#c\n",
    "def radians_degrees(rad):\n",
    "    return (rad *180/3.14)/57.32484076\n",
    "\n",
    "def degrees_to_radians(deg):\n",
    "    return (57.32484076*deg*3.14)/180\n",
    "print(degrees_to_radians(1))\n",
    "print(radians_degrees(1))"
   ]
  },
  {
   "cell_type": "code",
   "execution_count": 20,
   "metadata": {},
   "outputs": [
    {
     "name": "stdout",
     "output_type": "stream",
     "text": [
      "entrer le rayon de votre cercle: 2\n",
      "l'aire de votre cercle est:  12.56 et la circonference est:  12.56\n"
     ]
    }
   ],
   "source": [
    "#3d\n",
    "pi=3.14\n",
    "r = float(input('entrer le rayon de votre cercle: '))\n",
    "while r<0:\n",
    "    r = float(input('entrer le rayon de votre cercle: '))\n",
    "    \n",
    "print(\"l'aire de votre cercle est: \",pi*r*r,'et la circonference est: ',2*pi*r)\n",
    "\n",
    "\n",
    "        "
   ]
  },
  {
   "cell_type": "code",
   "execution_count": 26,
   "metadata": {},
   "outputs": [
    {
     "name": "stdout",
     "output_type": "stream",
     "text": [
      "donnez un reel : 13\n",
      "donnez un autre reel: 3\n",
      "la moyenne arithmetique est:  8.0\n",
      "la moyenne geometrique est :  6.244997998398398\n",
      "donnez un reel : 32\n",
      "donnez un autre reel: 32\n",
      "la moyenne arithmetique est:  32.0\n",
      "la moyenne geometrique est :  32.0\n",
      "donnez un reel : 3\n",
      "donnez un autre reel: 2\n",
      "la moyenne arithmetique est:  2.5\n",
      "la moyenne geometrique est :  2.449489742783178\n",
      "donnez un reel : 3\n",
      "donnez un autre reel: 2\n",
      "la moyenne arithmetique est:  2.5\n",
      "la moyenne geometrique est :  2.449489742783178\n",
      "donnez un reel : 3\n",
      "donnez un autre reel: 2\n",
      "la moyenne arithmetique est:  2.5\n",
      "la moyenne geometrique est :  2.449489742783178\n",
      "donnez un reel : 4\n",
      "donnez un autre reel: 2\n",
      "la moyenne arithmetique est:  3.0\n",
      "la moyenne geometrique est :  2.8284271247461903\n",
      "donnez un reel : 4\n",
      "donnez un autre reel: 5\n",
      "la moyenne arithmetique est:  4.5\n",
      "la moyenne geometrique est :  4.47213595499958\n",
      "donnez un reel : 56\n",
      "donnez un autre reel: 34\n",
      "la moyenne arithmetique est:  45.0\n",
      "la moyenne geometrique est :  43.634848458542855\n",
      "donnez un reel : 32\n",
      "donnez un autre reel: 23\n",
      "la moyenne arithmetique est:  27.5\n",
      "la moyenne geometrique est :  27.129319932501073\n",
      "donnez un reel : 24\n",
      "donnez un autre reel: 2\n",
      "la moyenne arithmetique est:  13.0\n",
      "la moyenne geometrique est :  6.928203230275509\n"
     ]
    }
   ],
   "source": [
    "def avggeom(a,b):\n",
    "    print('la moyenne arithmetique est: ',(a+b)/2)\n",
    "    if a>=0 and b>=0:\n",
    "        print(\"la moyenne geometrique est : \",(a*b)**0.5)\n",
    "    else:\n",
    "        print('pas possible de calculer la moyenne geometrique')\n",
    "i=0\n",
    "while i<10:\n",
    "    a = float(input(\"donnez un reel : \"))\n",
    "    b = float(input('donnez un autre reel: '))\n",
    "    avggeom(a,b)\n",
    "    i = i +1\n",
    "    \n",
    "\n",
    "\n",
    "        "
   ]
  },
  {
   "cell_type": "code",
   "execution_count": 16,
   "metadata": {},
   "outputs": [
    {
     "name": "stdout",
     "output_type": "stream",
     "text": [
      "le perimetre est:  p =  (10.2469507659596+20.898735330009494j)\n",
      "on verra pour laire: \n"
     ]
    },
    {
     "data": {
      "text/plain": [
       "(7.936618352409169e-16+12.96148139681572j)"
      ]
     },
     "execution_count": 16,
     "metadata": {},
     "output_type": "execute_result"
    }
   ],
   "source": [
    "#4b\n",
    "def distancefn(A,B):\n",
    "    Xa=A[0]\n",
    "    Ya=A[1]\n",
    "    Xb=B[0]\n",
    "    Yb=B[1]\n",
    "    d = (((Ya-Xa)**2)-((Yb-Xb)**2))**0.5\n",
    "    return d\n",
    "\n",
    "def perimetre_area(A,B,C):\n",
    "    Xa=A[0]\n",
    "    Ya=A[1]\n",
    "    Xb=B[0]\n",
    "    Yb=B[1]\n",
    "    Xc=C[0]\n",
    "    Yc=C[1]\n",
    "    print(\"le perimetre est: \",'p = ' ,distancefn(A,B)+distancefn(A,C)+distancefn(B,C))\n",
    "    print('on verra pour laire: ')\n",
    "\n",
    "A = (3,4)\n",
    "B = (-7,6)\n",
    "C = (1,9)\n",
    "perimetre_area(A,B,C)\n",
    "distancefn(A,B)   \n",
    "    \n",
    "    \n",
    "    "
   ]
  },
  {
   "cell_type": "code",
   "execution_count": 13,
   "metadata": {},
   "outputs": [
    {
     "name": "stdout",
     "output_type": "stream",
     "text": [
      "tapez \"1\" pour la factoriele dun entier et \"2\" polynome 2nd degres et autre chiffre pour sortir: 3\n",
      "bye byee!!!\n"
     ]
    }
   ],
   "source": [
    "#5\n",
    "def fact(n):\n",
    "    fac = 1    \n",
    "    if n==0:\n",
    "        fac=1\n",
    "    else:\n",
    "        for i in range(1,n+1):\n",
    "            fac = fac*i\n",
    "    print('le factoriel de',n,'est: ',fac)\n",
    "\n",
    "def racines_du_polynome(a,b,c):\n",
    "    d=(b*b-4*a*c)\n",
    "    if(d<0):\n",
    "        print('pas de solution')\n",
    "    elif(d==0):\n",
    "        print('admet un solutin double',-b/2*a)\n",
    "    else:\n",
    "        print('admet deux solutions distinctes: ',(-b+d)/2*a,(-b-d)/2*a)\n",
    "\n",
    "        \n",
    "def fact2nddeg(choix):\n",
    "    if choix==1:\n",
    "        n = int(input(\"Entrez un nombre entier superieur ou egal a zero :\"))\n",
    "        while n<0:\n",
    "            n = int(input(\"Entrez un nombre entier superieur ou egal a zero :\"))   \n",
    "        fact(n)   \n",
    "    elif choix==2:\n",
    "        a=float(input(\"Entrer un entier positif: \"))\n",
    "        b=float(input(\"Entrer un entier positif: \"))\n",
    "        c=float(input(\"Entrer un entier positif: \"))\n",
    "    else:\n",
    "        print('bye byee!!!')\n",
    "        \n",
    "choix=int(input('tapez \"1\" pour la factoriele dun entier et \"2\" polynome 2nd degres et autre chiffre pour sortir: '))\n",
    "fact2nddeg(choix)\n",
    "        \n",
    "        \n",
    "        \n"
   ]
  },
  {
   "cell_type": "code",
   "execution_count": 3,
   "metadata": {},
   "outputs": [
    {
     "name": "stdout",
     "output_type": "stream",
     "text": [
      "-27\n"
     ]
    }
   ],
   "source": [
    "#6\n",
    "def power(x,n):\n",
    "    if n==0:\n",
    "        return 1\n",
    "    elif n>0:\n",
    "        return x*power(x,n-1)\n",
    "\n",
    "    print(power(-3,3))\n"
   ]
  },
  {
   "cell_type": "code",
   "execution_count": 4,
   "metadata": {},
   "outputs": [
    {
     "name": "stdout",
     "output_type": "stream",
     "text": [
      "Entrez le nombre de termes:2\n",
      "1\n"
     ]
    }
   ],
   "source": [
    "#7\n",
    "def fibonacci(n):\n",
    "    if(n <= 1):\n",
    "        return n\n",
    "    else:\n",
    "        return (fibonacci(n-1) + fibonacci(n-2))\n",
    "n = int(input(\"Entrez le nombre de termes:\"))\n",
    "print(fibonacci(n))"
   ]
  },
  {
   "cell_type": "code",
   "execution_count": 24,
   "metadata": {},
   "outputs": [
    {
     "ename": "SyntaxError",
     "evalue": "invalid character '°' (U+00B0) (3396832608.py, line 1)",
     "output_type": "error",
     "traceback": [
      "\u001b[0;36m  Input \u001b[0;32mIn [24]\u001b[0;36m\u001b[0m\n\u001b[0;31m    print(math.sin(90°))\u001b[0m\n\u001b[0m                     ^\u001b[0m\n\u001b[0;31mSyntaxError\u001b[0m\u001b[0;31m:\u001b[0m invalid character '°' (U+00B0)\n"
     ]
    }
   ],
   "source": []
  },
  {
   "cell_type": "code",
   "execution_count": null,
   "metadata": {},
   "outputs": [],
   "source": []
  }
 ],
 "metadata": {
  "kernelspec": {
   "display_name": "Python 3 (ipykernel)",
   "language": "python",
   "name": "python3"
  },
  "language_info": {
   "codemirror_mode": {
    "name": "ipython",
    "version": 3
   },
   "file_extension": ".py",
   "mimetype": "text/x-python",
   "name": "python",
   "nbconvert_exporter": "python",
   "pygments_lexer": "ipython3",
   "version": "3.9.12"
  }
 },
 "nbformat": 4,
 "nbformat_minor": 4
}
